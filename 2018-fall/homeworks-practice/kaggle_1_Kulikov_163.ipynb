{
 "cells": [
  {
   "cell_type": "code",
   "execution_count": 390,
   "metadata": {
    "collapsed": true
   },
   "outputs": [],
   "source": [
    "import numpy as np\n",
    "import pandas as pd\n",
    "from sklearn.model_selection import train_test_split, GridSearchCV\n",
    "from sklearn.pipeline import Pipeline\n",
    "from sklearn.linear_model import LinearRegression, Ridge, Lasso,RidgeCV, LassoCV, ElasticNetCV\n",
    "from sklearn.preprocessing import StandardScaler, MinMaxScaler\n",
    "from sklearn.preprocessing import PolynomialFeatures\n",
    "from sklearn.cluster import KMeans\n",
    "import warnings\n",
    "warnings.filterwarnings(\"ignore\")"
   ]
  },
  {
   "cell_type": "code",
   "execution_count": 2838,
   "metadata": {
    "collapsed": true
   },
   "outputs": [],
   "source": [
    "#Загрузка данных\n",
    "x_train_load = pd.DataFrame(np.load('x_train.npy'))\n",
    "y_train_load = pd.DataFrame(np.load('y_train.npy'))\n",
    "x_test_load = pd.DataFrame(np.load('x_test.npy'))\n"
   ]
  },
  {
   "cell_type": "code",
   "execution_count": 1465,
   "metadata": {
    "collapsed": true
   },
   "outputs": [],
   "source": [
    "#Данные для итогового теста\n",
    "x_train=x_train_load\n",
    "y_train=y_train_load\n",
    "x_test=x_test_load"
   ]
  },
  {
   "cell_type": "code",
   "execution_count": 2839,
   "metadata": {
    "collapsed": true
   },
   "outputs": [],
   "source": [
    "#Делим данные для создания модели\n",
    "x_train, x_test, y_train, y_test = train_test_split(x_train_load, y_train_load, train_size=0.8, random_state=42)"
   ]
  },
  {
   "cell_type": "code",
   "execution_count": 2840,
   "metadata": {
    "collapsed": true
   },
   "outputs": [],
   "source": [
    "#Метрика\n",
    "def mape(y_true, y_pred):\n",
    "    y_true = np.array(y_true)\n",
    "    y_pred = np.array(y_pred)\n",
    "    return np.mean(np.abs((y_true - y_pred) / y_true)) * 100"
   ]
  },
  {
   "cell_type": "code",
   "execution_count": 2841,
   "metadata": {
    "collapsed": true
   },
   "outputs": [],
   "source": [
    "#С помощью Kmean разделил по координатам на области данные(более богатые районы или менее)\n",
    "xx=pd.DataFrame(x_train.lat)\n",
    "xx['long']= x_train.long\n",
    "#model1 = KMeans(n_clusters=6) \n",
    "#model1.fit(xx)\n",
    "\n",
    "all_predictions = model1.predict(xx)\n",
    "x_train['ll']=all_predictions\n",
    "\n",
    "xx=pd.DataFrame(x_test.lat)\n",
    "xx['long']= x_test.long\n",
    "all_predictions = model1.predict(xx)\n",
    "x_test['ll']=all_predictions"
   ]
  },
  {
   "cell_type": "code",
   "execution_count": 2842,
   "metadata": {
    "collapsed": true
   },
   "outputs": [],
   "source": [
    "del(x_train['date'])\n",
    "del(x_test['date'])"
   ]
  },
  {
   "cell_type": "code",
   "execution_count": 2843,
   "metadata": {
    "collapsed": true
   },
   "outputs": [],
   "source": [
    "# Добавил признак с расстояние до ближайшей достопримечательности, парка и тд. Так как все координаты в приделах Сиэтл\n",
    "import math\n",
    "\n",
    "new_featch=[[47.688486, -122.400450],[47.694006, -122.388608],[47.694785, -122.377502],[47.707896, -122.365916],[47.694526, -122.272156],\n",
    "           [47.689569, -122.279038],[47.676638, -122.261216],[47.681023, -122.328301],[47.667768, -122.351272],[47.667706, -122.398084],\n",
    "           [47.651418, -122.349172],[47.659994, -122.311291],[47.640433, -122.299133],[47.634983, -122.312434],[47.626867, -122.337600],\n",
    "           [47.635249, -122.344991],[47.640978, -122.377600],[47.654899, -122.409009],[47.629365, -122.359476],[47.621244, -122.351299],\n",
    "           [47.607963, -122.339742],[47.603277, -122.330859]]\n",
    "\n",
    "def haversine(lon1, lat1, lon2, lat2):\n",
    "    lon1, lat1, lon2, lat2 = map(math.radians, [lon1, lat1, lon2, lat2])\n",
    "    dlon = lon2 - lon1\n",
    "    dlat = lat2 - lat1\n",
    "    a = math.sin(dlat/2)**2 + math.cos(lat1) * math.cos(lat2) * math.sin(dlon/2)**2\n",
    "    c = 2 * math.asin(math.sqrt(a))\n",
    "    dec_m = 6371 * c\n",
    "    return dec_m\n",
    "\n",
    "t=[]\n",
    "xx=pd.DataFrame(x_train.lat)\n",
    "xx['long']= x_train.long\n",
    "for x in xx.values:\n",
    "    s=[]\n",
    "    for i in new_featch:\n",
    "        s.append(haversine(x[1],x[0],i[0],i[1]))\n",
    "    t.append(min(s))\n",
    "x_train['new']=t\n",
    "t=[]\n",
    "xx=pd.DataFrame(x_test.lat)\n",
    "xx['long']= x_test.long\n",
    "for x in xx.values:\n",
    "    s=[]\n",
    "    for i in new_featch:\n",
    "        s.append(haversine(x[1],x[0],i[0],i[1]))\n",
    "    t.append(min(s))\n",
    "x_test['new']=t"
   ]
  },
  {
   "cell_type": "code",
   "execution_count": 2844,
   "metadata": {
    "collapsed": true
   },
   "outputs": [],
   "source": [
    "#Еще одна кластраризация видов районов и расстояния до ближайших достопримечательностей\n",
    "x_train['price']= y_train\n",
    "xx=pd.DataFrame(x_train.new)\n",
    "xx['zip']= x_train.ll\n",
    "s=[]\n",
    "#for i in range(3,12):\n",
    "#    model = KMeans(n_clusters=5) \n",
    "#    model.fit(xx)\n",
    "#model = KMeans(n_clusters=5) \n",
    "#model.fit(xx)\n",
    "all_predictions = model.predict(xx)\n",
    "x_train['zl']=all_predictions\n",
    "\n",
    "xx=pd.DataFrame(x_test.new)\n",
    "xx['zip']= x_test.ll\n",
    "all_predictions = model.predict(xx)\n",
    "x_test['zl']=all_predictions"
   ]
  },
  {
   "cell_type": "code",
   "execution_count": 2845,
   "metadata": {
    "collapsed": true
   },
   "outputs": [],
   "source": [
    "del(x_train['sqft_living'])\n",
    "del(x_test['sqft_living'])"
   ]
  },
  {
   "cell_type": "code",
   "execution_count": 2846,
   "metadata": {
    "collapsed": true
   },
   "outputs": [],
   "source": [
    "x_train['sqft_lot']=np.log(x_train['sqft_lot'])\n",
    "x_test['sqft_lot']=np.log(x_test['sqft_lot'])\n",
    "x_train['sqft_above']=np.log(x_train['sqft_above'])\n",
    "x_test['sqft_above']=np.log(x_test['sqft_above'])"
   ]
  },
  {
   "cell_type": "code",
   "execution_count": 1,
   "metadata": {},
   "outputs": [],
   "source": [
    "#Смотрю как коррелируют признаки\n",
    "x_train['price']= y_train\n",
    "x_train.corr().price"
   ]
  },
  {
   "cell_type": "code",
   "execution_count": 1761,
   "metadata": {
    "collapsed": true
   },
   "outputs": [],
   "source": [
    "#Строил зависимость признаков\n",
    "import matplotlib.pyplot as plt\n",
    "def pairplot(df, target):\n",
    "    ncol, nrow = 7, df.shape[1] // 7 + (df.shape[1] % 7 > 0)\n",
    "    plt.figure(figsize=(ncol * 4, nrow * 4))\n",
    "\n",
    "    for i, feature in enumerate(df.columns):\n",
    "        plt.subplot(nrow, ncol, i + 1)\n",
    "        plt.scatter(df[feature], target, s=10, marker='o', alpha=.6)\n",
    "        plt.xlabel(feature)\n",
    "        if i % ncol == 0:\n",
    "            plt.ylabel('target')\n",
    "pairplot(x_train, y_train)"
   ]
  },
  {
   "cell_type": "code",
   "execution_count": 2857,
   "metadata": {},
   "outputs": [
    {
     "name": "stdout",
     "output_type": "stream",
     "text": [
      "Ridge(score R2) 12.8906056720\n",
      "\n"
     ]
    }
   ],
   "source": [
    "#del(x_train['price'])\n",
    "parameters = {\n",
    "    'alpha': np.logspace(-6,6,70)#-4,-3,70\n",
    "}\n",
    "\n",
    "standard_pipeline1=Pipeline([\n",
    "    ('poly_feat', PolynomialFeatures(2)),\n",
    "    ('std_scaler', StandardScaler()),\n",
    "    ('cv', GridSearchCV(Ridge(), parameters,cv=5,error_score=mape)),    \n",
    "])\n",
    "\n",
    "\n",
    "#cv=GridSearchCV(Ridge(), parameters,cv=5)\n",
    "ll=standard_pipeline1.fit(x_train,np.log(y_train))\n",
    "\n",
    "test_r=ll.predict(x_test)\n",
    "print('Ridge(score R2) %.10f\\n' % mape(y_test, np.exp(test_r)))"
   ]
  },
  {
   "cell_type": "code",
   "execution_count": 2821,
   "metadata": {
    "collapsed": true
   },
   "outputs": [],
   "source": [
    "#Сохранение модели\n",
    "f=pd.DataFrame( np.array(range(1,len(test_r)+1)) )\n",
    "f.columns = ['Id']\n",
    "f['Price']=np.exp(test_r)\n",
    "f.index=f.Id\n",
    "del(f['Id'])\n",
    "import csv\n",
    "f.to_csv('answer.csv')"
   ]
  },
  {
   "cell_type": "code",
   "execution_count": 2711,
   "metadata": {},
   "outputs": [
    {
     "name": "stdout",
     "output_type": "stream",
     "text": [
      "bedrooms\n",
      "bathrooms\n",
      "sqft_lot\n",
      "floors\n",
      "waterfront\n",
      "condition\n",
      "grade\n",
      "sqft_above\n",
      "sqft_basement\n",
      "yr_built\n",
      "yr_renovated\n",
      "zipcode\n",
      "lat\n",
      "long\n",
      "ll\n",
      "new\n",
      "zl\n",
      "feat\n",
      "feat_new\n",
      "feat_new_new\n",
      "feat_new_new_new\n",
      "feat_new_new_new_new\n"
     ]
    }
   ],
   "source": [
    "#Я устал выбирать признаки, и я создал такой подбор признаков для кластаризации и выбирал по лучшей метрики потом\n",
    "s=[]\n",
    "name=[]\n",
    "for i in x_train.columns:\n",
    "    print(i)\n",
    "    for j in x_train.columns:\n",
    "\n",
    "#for i in range(3,12):\n",
    "#    model_feat = KMeans(n_clusters=i) \n",
    "#    model_feat.fit(xx)\n",
    "        for k in range(3,5):\n",
    "            x_train['price']= y_train\n",
    "            xx=pd.DataFrame(x_train[i])\n",
    "            xx['zip']= x_train[j]\n",
    "            model_feat_new_new_new_new = KMeans(n_clusters=k) \n",
    "            model_feat_new_new_new_new.fit(xx)\n",
    "            all_predictions = model_feat_new_new_new_new.predict(xx)\n",
    "            x_train['feat_new_new_new_new']=all_predictions\n",
    "            xx=pd.DataFrame(x_test[i])\n",
    "            xx['zip']= x_test[j]\n",
    "            all_predictions = model_feat_new_new_new_new.predict(xx)\n",
    "            x_test['feat_new_new_new_new']=all_predictions\n",
    "        \n",
    "        \n",
    "            del(x_train['price'])\n",
    "            parameters = {\n",
    "                'alpha': np.logspace(-6,-3,70)#-4,-3,70\n",
    "            }\n",
    "\n",
    "            standard_pipeline12=Pipeline([\n",
    "                ('poly_feat', PolynomialFeatures(2)),\n",
    "                ('std_scaler', StandardScaler()),\n",
    "                ('cv', LinearRegression()),    \n",
    "            ])\n",
    "\n",
    "\n",
    "#cv=GridSearchCV(Ridge(), parameters,cv=5)\n",
    "            ll=standard_pipeline12.fit(x_train,np.log(y_train))\n",
    "\n",
    "            test_r=ll.predict(x_test)\n",
    "            name.append(str(i)+' ' + str(j)+ ' ' + str(k))\n",
    "            s.append(mape(y_test, np.exp(test_r)))\n",
    "\n"
   ]
  },
  {
   "cell_type": "code",
   "execution_count": 2847,
   "metadata": {
    "collapsed": true
   },
   "outputs": [],
   "source": [
    "#Это набор фичей, который я добавил с помощью моей функции выше\n",
    "x_train['price']= y_train\n",
    "xx=pd.DataFrame(x_train['lat'])\n",
    "xx['zip']= x_train['ll']\n",
    "#model_feat = KMeans(n_clusters=5) \n",
    "#model_feat.fit(xx)\n",
    "all_predictions = model_feat.predict(xx)\n",
    "x_train['feat']=all_predictions\n",
    "xx=pd.DataFrame(x_test['lat'])\n",
    "xx['zip']= x_test['ll']\n",
    "all_predictions = model_feat.predict(xx)\n",
    "x_test['feat']=all_predictions\n",
    "\n"
   ]
  },
  {
   "cell_type": "code",
   "execution_count": 2848,
   "metadata": {
    "collapsed": true
   },
   "outputs": [],
   "source": [
    "x_train['price']= y_train\n",
    "xx=pd.DataFrame(x_train['zipcode'])\n",
    "xx['zip']= x_train['new']\n",
    "model_feat_new = KMeans(n_clusters=6) \n",
    "model_feat_new.fit(xx)\n",
    "all_predictions = model_feat_new.predict(xx)\n",
    "x_train['feat_new']=all_predictions\n",
    "xx=pd.DataFrame(x_test['zipcode'])\n",
    "xx['zip']= x_test['new']\n",
    "all_predictions = model_feat_new.predict(xx)\n",
    "x_test['feat_new']=all_predictions"
   ]
  },
  {
   "cell_type": "code",
   "execution_count": 2849,
   "metadata": {
    "collapsed": true
   },
   "outputs": [],
   "source": [
    "x_train['price']= y_train\n",
    "xx=pd.DataFrame(x_train['zipcode'])\n",
    "xx['zip']= x_train['bathrooms']\n",
    "#model_feat_new_new = KMeans(n_clusters=4) \n",
    "#model_feat_new_new.fit(xx)\n",
    "all_predictions = model_feat_new_new.predict(xx)\n",
    "x_train['feat_new_new']=all_predictions\n",
    "xx=pd.DataFrame(x_test['zipcode'])\n",
    "xx['zip']= x_test['bathrooms']\n",
    "all_predictions = model_feat_new_new.predict(xx)\n",
    "x_test['feat_new_new']=all_predictions"
   ]
  },
  {
   "cell_type": "code",
   "execution_count": 2850,
   "metadata": {
    "collapsed": true
   },
   "outputs": [],
   "source": [
    "x_train['price']= y_train\n",
    "xx=pd.DataFrame(x_train['long'])\n",
    "xx['zip']= x_train['waterfront']\n",
    "#model_feat_new_new_new = KMeans(n_clusters=3) \n",
    "#model_feat_new_new_new.fit(xx)\n",
    "all_predictions = model_feat_new_new_new.predict(xx)\n",
    "x_train['feat_new_new_new']=all_predictions\n",
    "xx=pd.DataFrame(x_test['long'])\n",
    "xx['zip']= x_test['waterfront']\n",
    "all_predictions = model_feat_new_new_new.predict(xx)\n",
    "x_test['feat_new_new_new']=all_predictions"
   ]
  },
  {
   "cell_type": "code",
   "execution_count": 2851,
   "metadata": {
    "collapsed": true
   },
   "outputs": [],
   "source": [
    "x_train['price']= y_train\n",
    "xx=pd.DataFrame(x_train['ll'])\n",
    "xx['zip']= x_train['lat']\n",
    "model_feat_new_new_new_new = KMeans(n_clusters=4) \n",
    "model_feat_new_new_new_new.fit(xx)\n",
    "all_predictions = model_feat_new_new_new.predict(xx)\n",
    "x_train['feat_new_new_new_new']=all_predictions\n",
    "xx=pd.DataFrame(x_test['ll'])\n",
    "xx['zip']= x_test['lat']\n",
    "all_predictions = model_feat_new_new_new.predict(xx)\n",
    "x_test['feat_new_new_new_new']=all_predictions"
   ]
  },
  {
   "cell_type": "code",
   "execution_count": 2856,
   "metadata": {},
   "outputs": [
    {
     "data": {
      "text/plain": [
       "12.774066329920213"
      ]
     },
     "execution_count": 2856,
     "metadata": {},
     "output_type": "execute_result"
    }
   ],
   "source": [
    "#Итоговое значение, LinearRegression работает лучше всего\n",
    "#del(x_train['price'])\n",
    "standard_pipeline12=Pipeline([\n",
    "    ('poly_feat', PolynomialFeatures(2)),\n",
    "    ('std_scaler', StandardScaler()),\n",
    "    ('cv', LinearRegression()),    \n",
    "])\n",
    "ll=standard_pipeline12.fit(x_train,np.log(y_train))\n",
    "test_r=ll.predict(x_test)\n",
    "mape(y_test, np.exp(test_r))"
   ]
  }
 ],
 "metadata": {
  "kernelspec": {
   "display_name": "Python 3",
   "language": "python",
   "name": "python3"
  },
  "language_info": {
   "codemirror_mode": {
    "name": "ipython",
    "version": 3
   },
   "file_extension": ".py",
   "mimetype": "text/x-python",
   "name": "python",
   "nbconvert_exporter": "python",
   "pygments_lexer": "ipython3",
   "version": "3.6.3"
  }
 },
 "nbformat": 4,
 "nbformat_minor": 2
}
